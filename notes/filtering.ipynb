{
 "cells": [
  {
   "cell_type": "markdown",
   "id": "345a7361",
   "metadata": {},
   "source": [
    "# Spatial image filtering: convolutions"
   ]
  },
  {
   "cell_type": "code",
   "execution_count": 297,
   "metadata": {},
   "outputs": [],
   "source": [
    "import numpy as np\n",
    "import imageio \n",
    "import matplotlib.pyplot as plt"
   ]
  },
  {
   "cell_type": "markdown",
   "id": "5bab4b72",
   "metadata": {},
   "source": [
    "### 2D Convolution\n",
    "\n",
    "The 2D convolution operation is a fundamental building block in image processing. It is used to apply a filter to an image, which can be used to perform tasks such as blurring, sharpening, edge detection, and noise reduction. In this notebook, we will explore the 2D convolution operation and its applications.\n",
    "\n",
    "### 2D Cross-correlation\n",
    "\n",
    "The 2D cross-correlation operation is similar to the 2D convolution operation, and is used to apply a filter to an image. The main difference between the two operations is that the 2D convolution operation uses a filter that is rotated by 180 degrees, while the 2D cross-correlation operation does not. In this notebook, we will explore the 2D cross-correlation operation and its applications."
   ]
  },
  {
   "cell_type": "code",
   "execution_count": 298,
   "id": "5b90b26d",
   "metadata": {},
   "outputs": [
    {
     "name": "stdout",
     "output_type": "stream",
     "text": [
      "[[ 25  50   1   4]\n",
      " [255  52   2   5]\n",
      " [255 100   0   3]\n",
      " [255 100   3 120]]\n"
     ]
    }
   ],
   "source": [
    "np.random.seed(666) # defining a seed\n",
    "\n",
    "# random image with 5x5 size\n",
    "f = np.random.randint(0, 7, [5, 5])\n",
    "print(f)"
   ]
  },
  {
   "cell_type": "code",
   "execution_count": 299,
   "id": "8608d5f7",
   "metadata": {},
   "outputs": [
    {
     "name": "stdout",
     "output_type": "stream",
     "text": [
      "[[ 1  1  1]\n",
      " [ 1 -8  1]\n",
      " [ 1  1  1]]\n",
      "[[0.  0.1 0. ]\n",
      " [0.1 0.6 0.1]\n",
      " [0.  0.1 0. ]]\n"
     ]
    }
   ],
   "source": [
    "# arbitrary filter with 3x3 size\n",
    "w = np.matrix([[1, 2, 0], [1, 4, 0], [0, 0, 0]]) / 8.0 # soma do filtro = 8, mas queremos que ela seja igual a 1\n",
    "print(w)"
   ]
  },
  {
   "cell_type": "code",
   "execution_count": 327,
   "id": "a63ebf73",
   "metadata": {},
   "outputs": [
    {
     "name": "stdout",
     "output_type": "stream",
     "text": [
      "[[ 1  1  1]\n",
      " [ 1 -8  1]\n",
      " [ 1  1  1]]\n"
     ]
    }
   ],
   "source": [
    "wf = np.flip(np.flip(w, 0), 1) # flip the filter\n",
    "print(wf)"
   ]
  },
  {
   "cell_type": "markdown",
   "id": "40324697",
   "metadata": {},
   "source": [
    "$g(1,2) = w(x,y) * f(1,2) = w_f(x,y) (*) f(1,2)$\n",
    "\n",
    "where $w(x,y)$ is the filter, $f(1,2)$ is the input image, and $g(1,2)$ is the output image."
   ]
  },
  {
   "cell_type": "code",
   "execution_count": 331,
   "id": "b20d2a6f",
   "metadata": {},
   "outputs": [
    {
     "name": "stdout",
     "output_type": "stream",
     "text": [
      "[[255  52   2]\n",
      " [255 100   0]\n",
      " [255 100   3]]\n"
     ]
    }
   ],
   "source": [
    "# compute output value of g(1,2)\n",
    "x, y = 2, 1\n",
    "\n",
    "# slice the matrix in the region needed for the filtering\n",
    "# I know the filter has size 3x3: x-1 to x+1 and y-1 to y+1\n",
    "print(f[x-1:x+2, y-1:y+2])"
   ]
  },
  {
   "cell_type": "code",
   "execution_count": 335,
   "id": "61b271eb",
   "metadata": {},
   "outputs": [
    {
     "name": "stdout",
     "output_type": "stream",
     "text": [
      "102.44444444444444\n",
      "[[ 255   52    2]\n",
      " [ 255 -800    0]\n",
      " [ 255  100    3]]\n"
     ]
    }
   ],
   "source": [
    "mult_1_2 = np.multiply(f[x-1:x+2, y-1:y+2], wf)\n",
    "print(mult_1_2)"
   ]
  },
  {
   "cell_type": "code",
   "execution_count": 333,
   "id": "e9073f79",
   "metadata": {},
   "outputs": [
    {
     "name": "stdout",
     "output_type": "stream",
     "text": [
      "122\n"
     ]
    }
   ],
   "source": [
    "# sum all multiplied values\n",
    "g_1_2 = np.sum(mult_1_2)\n",
    "print(g_1_2)"
   ]
  },
  {
   "cell_type": "code",
   "execution_count": 304,
   "id": "cf89a2cb",
   "metadata": {},
   "outputs": [],
   "source": [
    "# a function that performs convolution at some pixel x, y coordinates\n",
    "def conv_point(f, w, x, y, debug = False):\n",
    "    '''\n",
    "    Performs convolution at x, y coordinates\n",
    "    parameters:\n",
    "        f - input image\n",
    "        w - filter\n",
    "        x - x coordinate\n",
    "        y - y coordinate\n",
    "    '''\n",
    "    # compute the range of indices a, b convolution\n",
    "    n, m = w.shape # size of the filter\n",
    "    a = int((n-1)/2.0)\n",
    "    b = int((m-1)/2.0)\n",
    "\n",
    "    # get submatrix of a pixel neighborhood\n",
    "    sub_f = f[x-a:x+a+1, y-b:y+b+1] \n",
    "\n",
    "    # flip the original filter\n",
    "    wf = np.flip(np.flip(w, 0), 1)\n",
    "\n",
    "    if(debug == True):\n",
    "        print(\"sub-image f:\\n\" + str(sub_f))\n",
    "        print(\"flipped filter w:\\n\" + str(wf))\n",
    "\n",
    "    value = np.sum(np.multiply(sub_f, wf))\n",
    "\n",
    "    return value"
   ]
  },
  {
   "cell_type": "code",
   "execution_count": 305,
   "id": "b5b80dbd",
   "metadata": {},
   "outputs": [
    {
     "name": "stdout",
     "output_type": "stream",
     "text": [
      "sub-image f:\n",
      "[[ 50   1   4]\n",
      " [ 52   2   5]\n",
      " [100   0   3]]\n",
      "flipped filter w:\n",
      "[[0.    0.    0.   ]\n",
      " [0.    0.5   0.125]\n",
      " [0.    0.25  0.125]]\n"
     ]
    },
    {
     "data": {
      "text/plain": [
       "2.0"
      ]
     },
     "execution_count": 305,
     "metadata": {},
     "output_type": "execute_result"
    }
   ],
   "source": [
    "conv_point(f, w, 1, 2, debug = True)"
   ]
  },
  {
   "cell_type": "code",
   "execution_count": 306,
   "id": "bfffa1b4",
   "metadata": {},
   "outputs": [],
   "source": [
    "# function to perform convolution on the whole image\n",
    "def conv_image(f, w):\n",
    "    '''\n",
    "    Performs convolution on the whole image\n",
    "    parameters:\n",
    "        f - input image\n",
    "        w - filter\n",
    "    '''\n",
    "    n, m = w.shape # size of the filter\n",
    "    a = int((n-1)/2.0)\n",
    "    b = int((m-1)/2.0)\n",
    "\n",
    "    N, M = f.shape\n",
    "\n",
    "    # create a new empty image to store the output values\n",
    "    g = np.zeros(f.shape, dtype = np.uint8)\n",
    "\n",
    "    # flip the original filter\n",
    "    wf = np.flip(np.flip(w, 0), 1)\n",
    "\n",
    "    # loop through all pixels of the image, not considering the borders\n",
    "    for x in range(a, N - a):\n",
    "        for y in range(b, M - b):\n",
    "            sub_f = f[x-a:x+a+1, y-b:y+b+1] \n",
    "            g[x,y] = np.sum(np.multiply(sub_f, wf))\n",
    "\n",
    "    return g.astype(np.uint8)"
   ]
  },
  {
   "cell_type": "code",
   "execution_count": 307,
   "id": "c0e4247f",
   "metadata": {},
   "outputs": [
    {
     "data": {
      "text/plain": [
       "array([[ 0,  0,  0,  0],\n",
       "       [ 0, 51,  2,  0],\n",
       "       [ 0, 75, 16,  0],\n",
       "       [ 0,  0,  0,  0]], dtype=uint8)"
      ]
     },
     "execution_count": 307,
     "metadata": {},
     "output_type": "execute_result"
    }
   ],
   "source": [
    "conv_image(f, w)"
   ]
  },
  {
   "cell_type": "code",
   "execution_count": 308,
   "id": "d1498c4b",
   "metadata": {},
   "outputs": [],
   "source": [
    "# function to perform convolution on the whole image\n",
    "def conv_image_copy(f, w):\n",
    "    '''\n",
    "    Performs convolution on the whole image\n",
    "    parameters:\n",
    "        f - input image\n",
    "        w - filter\n",
    "    '''\n",
    "    n, m = w.shape # size of the filter\n",
    "    a = int((n-1)/2.0)\n",
    "    b = int((m-1)/2.0)\n",
    "\n",
    "    N, M = f.shape\n",
    "\n",
    "    # create a new empty image to store the output values\n",
    "    g = np.array(f, copy = True)\n",
    "\n",
    "    # flip the original filter\n",
    "    wf = np.flip(np.flip(w, 0), 1)\n",
    "\n",
    "    # loop through all pixels of the image, not considering the borders\n",
    "    for x in range(a, N - a):\n",
    "        for y in range(b, M - b):\n",
    "            sub_f = f[x-a:x+a+1, y-b:y+b+1] \n",
    "            g[x,y] = np.sum(np.multiply(sub_f, wf))\n",
    "\n",
    "    return g.astype(np.uint8)"
   ]
  },
  {
   "cell_type": "code",
   "execution_count": 309,
   "id": "208e6940",
   "metadata": {},
   "outputs": [
    {
     "data": {
      "text/plain": [
       "array([[ 25,  50,   1,   4],\n",
       "       [255,  51,   2,   5],\n",
       "       [255,  75,  16,   3],\n",
       "       [255, 100,   3, 120]], dtype=uint8)"
      ]
     },
     "execution_count": 309,
     "metadata": {},
     "output_type": "execute_result"
    }
   ],
   "source": [
    "conv_image_copy(f, w)"
   ]
  },
  {
   "cell_type": "markdown",
   "id": "4c2ade37",
   "metadata": {},
   "source": [
    "### Zero padding\n",
    "\n",
    "Zero padding is a technique used to preserve the size of the input image when applying a filter. It involves adding zeros around the edges of the input image, which allows the filter to be applied to the entire image. "
   ]
  },
  {
   "cell_type": "code",
   "execution_count": 310,
   "id": "27008194",
   "metadata": {},
   "outputs": [],
   "source": [
    "# function to perform convolution on the whole image\n",
    "def conv_image(f, w, zero_padding = False):\n",
    "    '''\n",
    "    Performs convolution on the whole image\n",
    "    parameters:\n",
    "        f - input image\n",
    "        w - filter\n",
    "    '''\n",
    "    n, m = w.shape # size of the filter\n",
    "    a = int((n-1)/2.0)\n",
    "    b = int((m-1)/2.0)\n",
    "\n",
    "    N, M = f.shape\n",
    "\n",
    "    g = np.array(f, copy = True)\n",
    "\n",
    "    if zero_padding == True:\n",
    "        # padding the image with zeros\n",
    "        f = np.pad(f, ((a, a), (b, b)), 'constant', constant_values = (0, 0))\n",
    "\n",
    "    # flip the original filter\n",
    "    wf = np.flip(np.flip(w, 0), 1)\n",
    "\n",
    "    # loop through all pixels of the image, not considering the borders\n",
    "    for x in range(a, N - a):\n",
    "        for y in range(b, M - b):\n",
    "            sub_f = f[x-a:x+a+1, y-b:y+b+1] \n",
    "            g[x,y] = np.sum(np.multiply(sub_f, wf))\n",
    "\n",
    "    return g.astype(np.uint8)"
   ]
  },
  {
   "cell_type": "code",
   "execution_count": 311,
   "id": "9f61abab",
   "metadata": {},
   "outputs": [
    {
     "data": {
      "text/plain": [
       "array([[ 25,  50,   1,   4],\n",
       "       [255,  89,  38,   5],\n",
       "       [255, 210,  51,   3],\n",
       "       [255, 100,   3, 120]], dtype=uint8)"
      ]
     },
     "execution_count": 311,
     "metadata": {},
     "output_type": "execute_result"
    }
   ],
   "source": [
    "conv_image(f, w, zero_padding = True)"
   ]
  }
 ],
 "metadata": {
  "kernelspec": {
   "display_name": "Python 3",
   "language": "python",
   "name": "python3"
  },
  "language_info": {
   "codemirror_mode": {
    "name": "ipython",
    "version": 3
   },
   "file_extension": ".py",
   "mimetype": "text/x-python",
   "name": "python",
   "nbconvert_exporter": "python",
   "pygments_lexer": "ipython3",
   "version": "3.8.10"
  }
 },
 "nbformat": 4,
 "nbformat_minor": 5
}
